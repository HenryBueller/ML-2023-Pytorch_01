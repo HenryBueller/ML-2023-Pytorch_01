{
 "cells": [
  {
   "cell_type": "markdown",
   "id": "9cf52104-97f4-4f04-811b-99f419ecd2cc",
   "metadata": {},
   "source": [
    "# L05 Linear Regression"
   ]
  },
  {
   "cell_type": "code",
   "execution_count": 1,
   "id": "81f58d89-943d-402c-bd2d-cc8f56e2e96a",
   "metadata": {},
   "outputs": [],
   "source": [
    "import torch"
   ]
  },
  {
   "cell_type": "code",
   "execution_count": 2,
   "id": "f8a36aeb-4f59-44f2-8a94-6f7f53692ab6",
   "metadata": {},
   "outputs": [],
   "source": [
    "# data\n",
    "x_data = torch.Tensor([[1.0], [2.0], [3.0]])\n",
    "y_data = torch.Tensor([[2.0], [4.0], [6.0]])"
   ]
  },
  {
   "cell_type": "code",
   "execution_count": 3,
   "id": "42007210-85dc-4b9b-a1cf-739871a6973b",
   "metadata": {},
   "outputs": [],
   "source": [
    "# model\n",
    "class LinearRegression(torch.nn.Module):\n",
    "    def __init__(self):\n",
    "        super(LinearRegression, self).__init__()\n",
    "        self.linear = torch.nn.Linear(1,1)\n",
    "        \n",
    "    def forward(self, x):\n",
    "        y_pred = self.linear(x)\n",
    "        return y_pred\n",
    "    \n",
    "linearModel = LinearRegression()"
   ]
  },
  {
   "cell_type": "code",
   "execution_count": 4,
   "id": "074f0e44-671d-4e94-ace2-df82f9d410a3",
   "metadata": {},
   "outputs": [],
   "source": [
    "# loss\n",
    "criterion = torch.nn.MSELoss()"
   ]
  },
  {
   "cell_type": "code",
   "execution_count": 5,
   "id": "58ac3907-f1ae-4176-90cc-edf55937bf9d",
   "metadata": {},
   "outputs": [],
   "source": [
    "# optimizer\n",
    "optimizer = torch.optim.SGD(linearModel.parameters(), lr=0.01)"
   ]
  },
  {
   "cell_type": "code",
   "execution_count": 6,
   "id": "4bb3f02d-e7b3-4eca-b863-a945dd5203e9",
   "metadata": {
    "tags": []
   },
   "outputs": [],
   "source": [
    "# train\n",
    "epoch = 0\n",
    "train_loss = []\n",
    "\n",
    "# for epoch in  range(100):\n",
    "while True:\n",
    "    y_pred = linearModel(x_data)\n",
    "    loss = criterion(y_pred, y_data)\n",
    "    train_loss.append(loss.item())\n",
    "    \n",
    "    loss.backward()\n",
    "    optimizer.step()\n",
    "    optimizer.zero_grad()\n",
    "    \n",
    "    if(loss.item() <= 1e-5 or epoch >= 1000):\n",
    "        break\n",
    "    else:\n",
    "        epoch += 1"
   ]
  },
  {
   "cell_type": "code",
   "execution_count": 7,
   "id": "15abd252-bb67-43ff-a53c-d76d1aa65bdc",
   "metadata": {
    "tags": []
   },
   "outputs": [
    {
     "data": {
      "image/png": "[encoded data removed]",
      "text/plain": [
       "<Figure size 640x480 with 1 Axes>"
      ]
     },
     "metadata": {},
     "output_type": "display_data"
    }
   ],
   "source": [
    "# train_plot\n",
    "import matplotlib.pyplot as plt\n",
    "\n",
    "plt.plot(train_loss)\n",
    "plt.xlabel(\"epoch\")\n",
    "plt.ylabel(\"loss\")\n",
    "plt.grid(True)\n",
    "plt.show()"
   ]
  },
  {
   "cell_type": "code",
   "execution_count": 8,
   "id": "ee4e80ea-e7a9-4e2f-8d0a-3d06cdfe0f9a",
   "metadata": {},
   "outputs": [
    {
     "name": "stdout",
     "output_type": "stream",
     "text": [
      "w= 1.9901527166366577\n",
      "b= 0.022385237738490105\n"
     ]
    }
   ],
   "source": [
    "# train_param\n",
    "print('w=', linearModel.linear.weight.item())\n",
    "print('b=', linearModel.linear.bias.item())"
   ]
  },
  {
   "cell_type": "code",
   "execution_count": 9,
   "id": "55a598fa-4ad3-485a-a0d4-1e518ffefdc1",
   "metadata": {},
   "outputs": [
    {
     "name": "stdout",
     "output_type": "stream",
     "text": [
      "y_pred= tensor([[7.9830]])\n"
     ]
    }
   ],
   "source": [
    "# test\n",
    "x_test = torch.Tensor([[4.0]])\n",
    "y_test = linearModel(x_test)\n",
    "print('y_pred=', y_test.data)"
   ]
  },
  {
   "cell_type": "code",
   "execution_count": null,
   "id": "1e2d6608-0e34-4ae7-abad-b9d423e84480",
   "metadata": {},
   "outputs": [],
   "source": []
  }
 ],
 "metadata": {
  "kernelspec": {
   "display_name": "pt_py3.8",
   "language": "python",
   "name": "pt_py3.8"
  },
  "language_info": {
   "codemirror_mode": {
    "name": "ipython",
    "version": 3
   },
   "file_extension": ".py",
   "mimetype": "text/x-python",
   "name": "python",
   "nbconvert_exporter": "python",
   "pygments_lexer": "ipython3",
   "version": "3.8.16"
  }
 },
 "nbformat": 4,
 "nbformat_minor": 5
}
