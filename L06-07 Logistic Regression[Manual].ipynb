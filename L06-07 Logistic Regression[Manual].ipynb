{
 "cells": [
  {
   "cell_type": "markdown",
   "id": "23091115-48b5-4767-b6e4-0b465de411ce",
   "metadata": {},
   "source": [
    "# L06-07 Manual Logistic Regression"
   ]
  },
  {
   "cell_type": "code",
   "execution_count": 1,
   "id": "502d13d7-2950-4f9d-8fc5-cf4e3dfd2af7",
   "metadata": {},
   "outputs": [],
   "source": [
    "import torch"
   ]
  },
  {
   "cell_type": "code",
   "execution_count": 10,
   "id": "2973b1a0-44c9-4fb2-a85d-f3cb6c4d910f",
   "metadata": {},
   "outputs": [
    {
     "name": "stdout",
     "output_type": "stream",
     "text": [
      "torch.Size([607, 1])\n"
     ]
    }
   ],
   "source": [
    "# data\n",
    "import numpy as np\n",
    "\n",
    "data = np.loadtxt('dataset/diabetes.csv.gz', delimiter=',', dtype=np.float32)\n",
    "train_size = int(data.shape[0]*0.8)\n",
    "test_size = data.shape[0] - train_size\n",
    "train_data = data[:-test_size,:]\n",
    "test_data = data[-test_size:,:]\n",
    "\n",
    "x_data = torch.from_numpy(train_data[:,:-1])\n",
    "y_data = torch.from_numpy(train_data[:,[-1]]) # if [:,-1], torch.Size([759])\n",
    "print(y_data.size())"
   ]
  },
  {
   "cell_type": "code",
   "execution_count": 11,
   "id": "5bc0a3b0-afe8-4ead-aba7-596542147f3c",
   "metadata": {},
   "outputs": [],
   "source": [
    "# model\n",
    "import math\n",
    "\n",
    "class LogisticRegression(torch.nn.Module):\n",
    "    def __init__(self):\n",
    "        self.weight = torch.Tensor(np.ones([8,1]))\n",
    "        self.weight = torch.Tensor([[-0.8260],\n",
    "                                    [-3.4521],\n",
    "                                    [ 0.1129],\n",
    "                                    [-0.6267],\n",
    "                                    [-0.2119],\n",
    "                                    [-2.4874],\n",
    "                                    [-1.0655],\n",
    "                                    [ 0.0169]])\n",
    "        self.weight.requires_grad=True\n",
    "        self.bias = torch.Tensor(np.empty([1]))\n",
    "        self.bias.requires_grad=True\n",
    "        \n",
    "    def __call__(self, *args, **kargs):\n",
    "        y = torch.Tensor(np.empty([test_size,1]))\n",
    "        for i, x in enumerate(args[0]):\n",
    "            y_pred = x.matmul(self.weight) + self.bias\n",
    "            y_pred = 1 / (1 + math.pow(math.e, -y_pred)) #  pow() will convert float to int; without [0] y_pred will be float\n",
    "            y[i][0] = y_pred\n",
    "        return y_pred\n",
    "\n",
    "    def forward(self, x):\n",
    "        y_pred = x.matmul(self.weight) + self.bias\n",
    "        y_pred = 1 / (1 + torch.exp(-y_pred)) # pow() and math.pow() donot support calculate grad automatically\n",
    "        return y_pred\n",
    "    \n",
    "    def parameters(self):\n",
    "        # return {'weight':self.weight, 'bias':self.bias}\n",
    "        return self.weight, self.bias\n",
    "    \n",
    "logisticModel = LogisticRegression()"
   ]
  },
  {
   "cell_type": "code",
   "execution_count": 12,
   "id": "d2656ec9-fd45-4714-863d-b96f576bea5c",
   "metadata": {},
   "outputs": [],
   "source": [
    "# loss\n",
    "class BCELoss:\n",
    "    def __init__(self):\n",
    "        pass\n",
    "    \n",
    "    def loss(self, y_pred, y):\n",
    "        loss = -(y*torch.log(y_pred) + (1-y)*torch.log(1-y_pred)) # math.log donot support calculate grad automatically\n",
    "        loss = torch.Tensor(np.ones([1,train_size])).matmul(loss)\n",
    "        loss /= train_size\n",
    "        return loss\n",
    "    \n",
    "criterion = BCELoss()"
   ]
  },
  {
   "cell_type": "code",
   "execution_count": 13,
   "id": "ba885cdc-a7b0-48b7-bbdc-9ca5a022d69c",
   "metadata": {},
   "outputs": [
    {
     "name": "stdout",
     "output_type": "stream",
     "text": [
      "(tensor([[-0.8260],\n",
      "        [-3.4521],\n",
      "        [ 0.1129],\n",
      "        [-0.6267],\n",
      "        [-0.2119],\n",
      "        [-2.4874],\n",
      "        [-1.0655],\n",
      "        [ 0.0169]], requires_grad=True), tensor([1.], requires_grad=True))\n"
     ]
    }
   ],
   "source": [
    "# optimizer\n",
    "class GD:\n",
    "    def __init__(self, params, lr=0.01):\n",
    "        print(params)\n",
    "        # self.weight = params['weight']\n",
    "        # self.bias = params['bias']\n",
    "        self.params = params\n",
    "        self.lr = lr\n",
    "        \n",
    "    def step(self):\n",
    "        # self.weight.data -= self.lr*self.weight.grad.data\n",
    "        # self.bias.data -= self.lr*self.bias.grad.data\n",
    "        for param in self.params:\n",
    "            param.data -= self.lr*param.grad.data\n",
    "        \n",
    "    def zero_grad(self):\n",
    "        # self.weight.grad.data.zero_()\n",
    "        # self.bias.grad.data.zero_()\n",
    "        for param in self.params:\n",
    "            if param.grad is not None:\n",
    "                param.grad.data.zero_()\n",
    "                \n",
    "optimizer = GD(logisticModel.parameters(), lr=0.01)"
   ]
  },
  {
   "cell_type": "code",
   "execution_count": 14,
   "id": "8ae91212-6064-4f35-b572-a1ded8f804e2",
   "metadata": {},
   "outputs": [],
   "source": [
    "# train\n",
    "epoch = 0\n",
    "train_loss = []\n",
    "\n",
    "while True:\n",
    "# for epoch in  range(100):\n",
    "    y_pred = logisticModel.forward(x_data)\n",
    "    loss = criterion.loss(y_pred, y_data)\n",
    "    loss.requires_grad_()\n",
    "    train_loss.append(loss.item())\n",
    "    \n",
    "    loss.backward() # pytorch helps refresh grad automatically\n",
    "    optimizer.step()\n",
    "    optimizer.zero_grad()\n",
    "    \n",
    "    if(loss.item() <= 1e-5 or epoch >= 40000):\n",
    "        break\n",
    "    else:\n",
    "        epoch += 1"
   ]
  },
  {
   "cell_type": "code",
   "execution_count": 15,
   "id": "d6156b22-2d6b-4808-ad6c-29f8349ad15a",
   "metadata": {},
   "outputs": [
    {
     "data": {
      "image/png": "[encoded data removed]",
      "text/plain": [
       "<Figure size 640x480 with 1 Axes>"
      ]
     },
     "metadata": {},
     "output_type": "display_data"
    }
   ],
   "source": [
    "# train_plot\n",
    "import matplotlib.pyplot as plt\n",
    "\n",
    "plt.plot(train_loss)\n",
    "plt.xlabel(\"epoch\")\n",
    "plt.ylabel(\"loss\")\n",
    "plt.grid(True)\n",
    "plt.show()"
   ]
  },
  {
   "cell_type": "code",
   "execution_count": 16,
   "id": "db2962fd-a3ec-42ee-9c08-46376398c484",
   "metadata": {},
   "outputs": [
    {
     "name": "stdout",
     "output_type": "stream",
     "text": [
      "w= tensor([[-0.8167],\n",
      "        [-3.4830],\n",
      "        [ 0.2297],\n",
      "        [-0.5289],\n",
      "        [-0.2398],\n",
      "        [-2.7852],\n",
      "        [-1.0392],\n",
      "        [-0.0227]])\n",
      "b= 0.23667974770069122\n"
     ]
    }
   ],
   "source": [
    "# train_param\n",
    "print('w=', logisticModel.weight.data)\n",
    "print('b=', logisticModel.bias.item())"
   ]
  },
  {
   "cell_type": "code",
   "execution_count": 17,
   "id": "dc943c9d-cd9d-4f57-b756-87e1e7154e1e",
   "metadata": {},
   "outputs": [
    {
     "name": "stdout",
     "output_type": "stream",
     "text": [
      "accurate_rate= 0.6447368421052632\n"
     ]
    }
   ],
   "source": [
    "# test\n",
    "x_test = torch.from_numpy(test_data[:,:-1])\n",
    "y_test_truth = torch.from_numpy(test_data[:,[-1]])\n",
    "\n",
    "y_test_pred = logisticModel(x_test)\n",
    "y_test_pred = np.where(y_test_pred > 0.5, 1, 0) \n",
    "accurate_rate = (y_test_pred == y_test_truth.tolist()).sum() / test_size\n",
    "# y_test_pred = y_test_pred.round()\n",
    "# accurate_rate = (y_test_pred == y_test_truth).sum() / test_size\n",
    "print('accurate_rate=', accurate_rate)"
   ]
  },
  {
   "cell_type": "code",
   "execution_count": null,
   "id": "705c5d3e-4e9e-4d18-870c-6871e37ddac5",
   "metadata": {},
   "outputs": [],
   "source": []
  }
 ],
 "metadata": {
  "kernelspec": {
   "display_name": "pt_py3.8",
   "language": "python",
   "name": "pt_py3.8"
  },
  "language_info": {
   "codemirror_mode": {
    "name": "ipython",
    "version": 3
   },
   "file_extension": ".py",
   "mimetype": "text/x-python",
   "name": "python",
   "nbconvert_exporter": "python",
   "pygments_lexer": "ipython3",
   "version": "3.8.16"
  }
 },
 "nbformat": 4,
 "nbformat_minor": 5
}
