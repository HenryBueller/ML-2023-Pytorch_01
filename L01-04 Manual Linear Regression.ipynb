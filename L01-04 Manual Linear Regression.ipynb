{
 "cells": [
  {
   "cell_type": "markdown",
   "id": "f0047796-28b9-4826-9ee6-573ee8862f74",
   "metadata": {},
   "source": [
    "# L01-04 Manual Linear Regression"
   ]
  },
  {
   "cell_type": "code",
   "execution_count": 1,
   "id": "43d53896-89ed-4d5a-abba-092b5b837a7d",
   "metadata": {},
   "outputs": [],
   "source": [
    "import torch"
   ]
  },
  {
   "cell_type": "code",
   "execution_count": 2,
   "id": "db4c84c8-237e-4403-bd52-f38fb2f6ef1b",
   "metadata": {},
   "outputs": [],
   "source": [
    "# data\n",
    "x_data = torch.Tensor([[1.0], [2.0], [3.0]])\n",
    "y_data = torch.Tensor([[2.0], [4.0], [6.0]])\n",
    "# print(type(x_data), '\\n', x_data,'\\n', x_data.data, '\\n', x_data.requires_grad)"
   ]
  },
  {
   "cell_type": "code",
   "execution_count": 3,
   "id": "4c6c3af4-9020-429c-9d76-4e4fc3ab82cc",
   "metadata": {},
   "outputs": [],
   "source": [
    "# model\n",
    "class LinearRegression:\n",
    "    def __init__(self):\n",
    "        self.weight = torch.Tensor([1.0])\n",
    "        self.weight.requires_grad_()\n",
    "        self.bias = torch.Tensor([0.0])\n",
    "        self.bias.requires_grad_()\n",
    "        \n",
    "    def __call__(self, *args, **kargs):\n",
    "        return args[0] * self.weight + self.bias\n",
    "\n",
    "    def forward(self, x):\n",
    "        return x * self.weight + self.bias\n",
    "    \n",
    "    def parameters(self):\n",
    "        # return {'weight':self.weight, 'bias':self.bias}\n",
    "        return self.weight, self.bias\n",
    "    \n",
    "linearModel = LinearRegression()"
   ]
  },
  {
   "cell_type": "code",
   "execution_count": 4,
   "id": "82750ed9-504a-48f6-b6ef-a826d2aaca04",
   "metadata": {},
   "outputs": [],
   "source": [
    "# loss\n",
    "class MSELoss:\n",
    "    def __init__(self):\n",
    "        pass\n",
    "    \n",
    "    def loss(self, y_pred, y):\n",
    "        loss = (y_pred - y) ** 2\n",
    "        return loss\n",
    "        \n",
    "criterion = MSELoss()"
   ]
  },
  {
   "cell_type": "code",
   "execution_count": 5,
   "id": "4a7904b1-7867-4043-96f9-1cf28f122720",
   "metadata": {},
   "outputs": [
    {
     "name": "stdout",
     "output_type": "stream",
     "text": [
      "(tensor([1.], requires_grad=True), tensor([0.], requires_grad=True))\n"
     ]
    }
   ],
   "source": [
    "# optimizer\n",
    "class SGD:\n",
    "    def __init__(self, params, lr=0.01):\n",
    "        print(params)\n",
    "        # self.weight = params['weight']\n",
    "        # self.bias = params['bias']\n",
    "        self.params = params\n",
    "        self.lr = lr\n",
    "        \n",
    "    def step(self):\n",
    "        # self.weight.data -= self.lr*self.weight.grad.data\n",
    "        # self.bias.data -= self.lr*self.bias.grad.data\n",
    "        for param in self.params:\n",
    "            param.data -= self.lr*param.grad.data\n",
    "        \n",
    "    def zero_grad(self):\n",
    "        # self.weight.grad.data.zero_()\n",
    "        # self.bias.grad.data.zero_()\n",
    "        for param in self.params:\n",
    "            param.grad.data.zero_()\n",
    "        \n",
    "optimizer = SGD(linearModel.parameters(), lr=0.01)"
   ]
  },
  {
   "cell_type": "code",
   "execution_count": 6,
   "id": "0ecf51ca-ac0d-485a-99ce-bc0021d0823c",
   "metadata": {},
   "outputs": [],
   "source": [
    "# train\n",
    "epoch = 0\n",
    "train_loss = []\n",
    "\n",
    "while True:\n",
    "# for epoch in  range(100):\n",
    "    y_pred = linearModel.forward(x_data[epoch%3])\n",
    "    loss = criterion.loss(y_pred, y_data[epoch%3])\n",
    "    train_loss.append(loss.item())\n",
    "    \n",
    "    loss.requires_grad_() # required, descent quicker\n",
    "    loss.backward() # pytorch helps refresh grad automatically\n",
    "    optimizer.step()\n",
    "    optimizer.zero_grad()\n",
    "    \n",
    "    if(loss.item() <= 1e-5 or epoch >= 1000):\n",
    "        break\n",
    "    else:\n",
    "        epoch += 1"
   ]
  },
  {
   "cell_type": "code",
   "execution_count": 10,
   "id": "d52ae937-8574-4770-b153-1d8426660206",
   "metadata": {},
   "outputs": [
    {
     "data": {
      "image/png": "[encoded data removed]",
      "text/plain": [
       "<Figure size 640x480 with 1 Axes>"
      ]
     },
     "metadata": {},
     "output_type": "display_data"
    }
   ],
   "source": [
    "# train_plot\n",
    "import matplotlib.pyplot as plt\n",
    "\n",
    "plt.plot(train_loss)\n",
    "plt.xlabel(\"epoch\")\n",
    "plt.ylabel(\"loss\")\n",
    "plt.grid(True)\n",
    "plt.show() # ugly, since only use 1 data calculate loss, aka use SGD, but accuracy is pretty"
   ]
  },
  {
   "cell_type": "code",
   "execution_count": 8,
   "id": "50ffa876-e259-42db-85eb-257561957209",
   "metadata": {},
   "outputs": [
    {
     "name": "stdout",
     "output_type": "stream",
     "text": [
      "w= 1.9864568710327148\n",
      "b= 0.03050394169986248\n"
     ]
    }
   ],
   "source": [
    "# train_param\n",
    "print('w=', linearModel.weight.item())\n",
    "print('b=', linearModel.bias.item())"
   ]
  },
  {
   "cell_type": "code",
   "execution_count": 9,
   "id": "817adf62-c8a6-4f4a-9bbf-043f1b786c08",
   "metadata": {},
   "outputs": [
    {
     "name": "stdout",
     "output_type": "stream",
     "text": [
      "y_pred= tensor([[7.9763]])\n"
     ]
    }
   ],
   "source": [
    "# test\n",
    "x_test = torch.Tensor([[4.0]])\n",
    "y_test = linearModel(x_test)\n",
    "print('y_pred=', y_test.data)"
   ]
  },
  {
   "cell_type": "code",
   "execution_count": null,
   "id": "88c6f12d-76d3-471a-8dbf-daf9cda94283",
   "metadata": {},
   "outputs": [],
   "source": []
  }
 ],
 "metadata": {
  "kernelspec": {
   "display_name": "pt_py3.8",
   "language": "python",
   "name": "pt_py3.8"
  },
  "language_info": {
   "codemirror_mode": {
    "name": "ipython",
    "version": 3
   },
   "file_extension": ".py",
   "mimetype": "text/x-python",
   "name": "python",
   "nbconvert_exporter": "python",
   "pygments_lexer": "ipython3",
   "version": "3.8.16"
  }
 },
 "nbformat": 4,
 "nbformat_minor": 5
}
