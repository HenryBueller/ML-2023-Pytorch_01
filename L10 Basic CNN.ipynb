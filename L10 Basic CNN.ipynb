{
 "cells": [
  {
   "cell_type": "markdown",
   "id": "4e2c4373-fd01-44aa-abe3-cff3de648048",
   "metadata": {},
   "source": [
    "# L10 Basic CNN"
   ]
  },
  {
   "cell_type": "code",
   "execution_count": 1,
   "id": "1b38e335-e6a0-41fe-8353-5b90a2aa53d6",
   "metadata": {},
   "outputs": [],
   "source": [
    "import torch\n",
    "import numpy as np\n",
    "\n",
    "BATCH_SIZE = 64"
   ]
  },
  {
   "cell_type": "code",
   "execution_count": 2,
   "id": "aa4b34a8-a57c-4ed6-9e50-276b92ad7286",
   "metadata": {},
   "outputs": [
    {
     "name": "stdout",
     "output_type": "stream",
     "text": [
      "Dataset MNIST\n",
      "    Number of datapoints: 60000\n",
      "    Root location: dataset/mnist\n",
      "    Split: Train\n",
      "    StandardTransform\n",
      "Transform: Compose(\n",
      "               ToTensor()\n",
      "               Normalize(mean=(0.1307,), std=(0.3081,))\n",
      "           )\n"
     ]
    }
   ],
   "source": [
    "# data\n",
    "from torchvision import transforms\n",
    "from torchvision import datasets\n",
    "from torch.utils.data import DataLoader\n",
    "\n",
    "transform = transforms.Compose([ transforms.ToTensor(), transforms.Normalize((0.1307, ), (0.3081, )) ])\n",
    "train_dataset = datasets.MNIST(root='dataset/mnist', train=True, transform=transform, download=True) \n",
    "train_loader = DataLoader(dataset=train_dataset, batch_size=BATCH_SIZE, shuffle=True)\n",
    "test_dataset = datasets.MNIST(root='dataset/mnist', train=False, transform=transform, download=True) \n",
    "test_loader = DataLoader(dataset=test_dataset, batch_size=BATCH_SIZE, shuffle=False)\n",
    "print(train_dataset)"
   ]
  },
  {
   "cell_type": "code",
   "execution_count": 3,
   "id": "4bc7e534-162b-4fa6-b1ec-c11cc6f203b3",
   "metadata": {},
   "outputs": [
    {
     "data": {
      "text/plain": [
       "Net(\n",
       "  (conv): ModuleList(\n",
       "    (0): Conv2d(1, 10, kernel_size=(5, 5), stride=(1, 1), bias=False)\n",
       "    (1): Conv2d(10, 20, kernel_size=(5, 5), stride=(1, 1), bias=False)\n",
       "  )\n",
       "  (fc): ModuleList(\n",
       "    (0): Linear(in_features=320, out_features=160, bias=True)\n",
       "    (1): Linear(in_features=160, out_features=10, bias=True)\n",
       "  )\n",
       "  (pooling): MaxPool2d(kernel_size=2, stride=2, padding=0, dilation=1, ceil_mode=False)\n",
       ")"
      ]
     },
     "execution_count": 3,
     "metadata": {},
     "output_type": "execute_result"
    }
   ],
   "source": [
    "# model\n",
    "class Net(torch.nn.Module):\n",
    "    def __init__(self):\n",
    "        super(Net, self).__init__()\n",
    "        self.conv = torch.nn.ModuleList()\n",
    "        self.fc = torch.nn.ModuleList()\n",
    "        \n",
    "        self.conv.append(torch.nn.Conv2d(1, 10, kernel_size=5, stride=1, bias=False)) # in_channel, out_channel; padding=1\n",
    "        self.conv.append(torch.nn.Conv2d(10, 20, kernel_size=5, stride=1, bias=False))\n",
    "        self.pooling = torch.nn.MaxPool2d(2) # filter 2x2, therefore stride=2\n",
    "        self.fc.append(torch.nn.Linear(320, 160)) # in_dim, out_dim;\n",
    "        self.fc.append(torch.nn.Linear(160, 10))\n",
    "    \n",
    "    def forward(self, x):\n",
    "        batch_size = x.size(0) # get N from (N,1,28,28)\n",
    "        fc_size = len(self.fc)\n",
    "        \n",
    "        for layer in self.conv:\n",
    "            x = torch.relu(self.pooling(layer(x))) # first relu then pooling is also ok\n",
    "        x = x.view(batch_size, -1) # flatten\n",
    "        for layer_index in range(fc_size-1): # last layer donot need RELU activate\n",
    "            x = torch.relu(self.fc[layer_index](x))\n",
    "        return self.fc[fc_size-1](x)\n",
    "    \n",
    "net = Net()\n",
    "device = torch.device(\"cuda:0\" if torch.cuda.is_available() else \"cpu\")\n",
    "net.to(device) # move to GPU"
   ]
  },
  {
   "cell_type": "code",
   "execution_count": 4,
   "id": "ee56c61f-d84a-430a-9ae2-b1d4734fcb0d",
   "metadata": {},
   "outputs": [],
   "source": [
    "# criterion\n",
    "criterion = torch.nn.CrossEntropyLoss()\n",
    "optimizer = torch.optim.SGD(net.parameters(), lr=0.01, momentum=0.5)"
   ]
  },
  {
   "cell_type": "code",
   "execution_count": 5,
   "id": "d92ef04d-ad2f-4433-be29-32c29a2bfd57",
   "metadata": {},
   "outputs": [],
   "source": [
    "# train\n",
    "def train(epoch):\n",
    "    running_loss = 0\n",
    "    for batch_i, (x, y) in enumerate(train_loader):\n",
    "        x, y = x.to(device), y.to(device) # move to GPU\n",
    "        y_hat = net(x)\n",
    "        loss = criterion(y_hat, y.long()) # torch.Tensor() is float, torch.LongTensor() is num; in this case, .long() removed is ok\n",
    "        loss.backward()\n",
    "        optimizer.step()\n",
    "        optimizer.zero_grad()\n",
    "        \n",
    "        running_loss += loss.item()\n",
    "        \n",
    "    if(running_loss <= 1e-5 or epoch >= 10):\n",
    "        return True, epoch, running_loss / BATCH_SIZE\n",
    "    else:\n",
    "        epoch += 1\n",
    "        return False, epoch, running_loss / BATCH_SIZE"
   ]
  },
  {
   "cell_type": "code",
   "execution_count": 6,
   "id": "0baddca8-21e8-4a06-b075-4a6c6793afe9",
   "metadata": {},
   "outputs": [],
   "source": [
    "# test\n",
    "def test():\n",
    "    correct = 0\n",
    "    total = 0\n",
    "    with torch.no_grad():\n",
    "        for (x, y) in test_loader:\n",
    "            x, y = x.to(device), y.to(device) # move to GPU\n",
    "            y_hat = net(x)\n",
    "            value, pred_index = torch.max(y_hat.data, dim=1)\n",
    "            total += y.size(0)\n",
    "            correct += (pred_index == y).sum().item()\n",
    "    return correct / total"
   ]
  },
  {
   "cell_type": "code",
   "execution_count": 9,
   "id": "d8269035-4078-4eec-bf42-f8c4496b988d",
   "metadata": {},
   "outputs": [
    {
     "name": "stdout",
     "output_type": "stream",
     "text": [
      "CPU times: total: 23min 6s\n",
      "Wall time: 3min 51s\n"
     ]
    }
   ],
   "source": [
    "%%time\n",
    "# epoch\n",
    "epoch = 0\n",
    "loss = []\n",
    "accurate_rate = []\n",
    "\n",
    "while True:\n",
    "    train_over, epoch, epoch_loss = train(epoch) \n",
    "    loss.append(epoch_loss)\n",
    "    acc = test()\n",
    "    accurate_rate.append(acc)\n",
    "    \n",
    "    if(train_over):\n",
    "        break"
   ]
  },
  {
   "cell_type": "code",
   "execution_count": 8,
   "id": "defc0e04-f3bb-4d37-9fd6-956f0ab46d41",
   "metadata": {},
   "outputs": [
    {
     "data": {
      "image/png": "[encoded data removed]",
      "text/plain": [
       "<Figure size 640x480 with 2 Axes>"
      ]
     },
     "metadata": {},
     "output_type": "display_data"
    }
   ],
   "source": [
    "# plot\n",
    "import matplotlib.pyplot as plt\n",
    "\n",
    "plt.subplot(121)\n",
    "plt.title(\"loss\")\n",
    "plt.plot(loss)\n",
    "plt.xlabel(\"epoch\")\n",
    "plt.ylabel(\"loss\")\n",
    "plt.grid(True)\n",
    "\n",
    "plt.subplot(122)\n",
    "plt.title(\"test performance\")\n",
    "plt.plot(accurate_rate, \"ro\")\n",
    "plt.plot(accurate_rate)\n",
    "plt.xlabel(\"epoch\")\n",
    "plt.ylabel(\"accurate rate\")\n",
    "plt.grid(True)\n",
    "px, py = 10, accurate_rate[-1]\n",
    "# plt.text(px-0.2, py-0.002, \"%0.3f\"%(accurate_rate[-1]), rotation=-30, color='gray')\n",
    "plt.annotate(\"%0.3f\"%(accurate_rate[-1]), xy=(px, py), xytext=(px,py-0.003),\n",
    "                           color=\"green\", weight=\"heavy\", fontsize=10,\n",
    "                           arrowprops={\"facecolor\": \"lightgreen\"})\n",
    "\n",
    "plt.tight_layout()\n",
    "plt.savefig(\"image/L10_performance.png\")\n",
    "plt.show()"
   ]
  },
  {
   "cell_type": "code",
   "execution_count": null,
   "id": "8639fc97-07af-4b58-9e09-dd5cf2122369",
   "metadata": {},
   "outputs": [],
   "source": []
  }
 ],
 "metadata": {
  "kernelspec": {
   "display_name": "pt_py3.8",
   "language": "python",
   "name": "pt_py3.8"
  },
  "language_info": {
   "codemirror_mode": {
    "name": "ipython",
    "version": 3
   },
   "file_extension": ".py",
   "mimetype": "text/x-python",
   "name": "python",
   "nbconvert_exporter": "python",
   "pygments_lexer": "ipython3",
   "version": "3.8.16"
  }
 },
 "nbformat": 4,
 "nbformat_minor": 5
}
