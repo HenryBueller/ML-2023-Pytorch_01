{
 "cells": [
  {
   "cell_type": "markdown",
   "id": "23091115-48b5-4767-b6e4-0b465de411ce",
   "metadata": {},
   "source": [
    "# L06-07 Logistic Regression"
   ]
  },
  {
   "cell_type": "code",
   "execution_count": 1,
   "id": "502d13d7-2950-4f9d-8fc5-cf4e3dfd2af7",
   "metadata": {},
   "outputs": [],
   "source": [
    "import torch"
   ]
  },
  {
   "cell_type": "code",
   "execution_count": 2,
   "id": "2973b1a0-44c9-4fb2-a85d-f3cb6c4d910f",
   "metadata": {},
   "outputs": [
    {
     "name": "stdout",
     "output_type": "stream",
     "text": [
      "torch.Size([608, 1])\n"
     ]
    }
   ],
   "source": [
    "# data\n",
    "import numpy as np\n",
    "\n",
    "data = np.loadtxt('dataset/diabetes.csv.gz', delimiter=',', dtype=np.float32)\n",
    "test_size = int(data.shape[0]*0.2)\n",
    "train_data = data[:-test_size,:]\n",
    "test_data = data[-test_size:,:]\n",
    "\n",
    "x_data = torch.from_numpy(train_data[:,:-1])\n",
    "y_data = torch.from_numpy(train_data[:,[-1]]) # if [:,-1], torch.Size([759])\n",
    "print(y_data.size()) # torch.Size([608, 1])"
   ]
  },
  {
   "cell_type": "code",
   "execution_count": 3,
   "id": "5bc0a3b0-afe8-4ead-aba7-596542147f3c",
   "metadata": {},
   "outputs": [],
   "source": [
    "# model\n",
    "class LogisticRegression(torch.nn.Module):\n",
    "    def __init__(self):\n",
    "        super(LogisticRegression, self).__init__()\n",
    "        self.linear = torch.nn.Linear(8,1)\n",
    "        \n",
    "    def forward(self,x):\n",
    "        y_pred = torch.sigmoid(self.linear(x))\n",
    "        return y_pred\n",
    "    \n",
    "logisticModel = LogisticRegression()"
   ]
  },
  {
   "cell_type": "code",
   "execution_count": 4,
   "id": "d2656ec9-fd45-4714-863d-b96f576bea5c",
   "metadata": {},
   "outputs": [],
   "source": [
    "# loss\n",
    "criterion = torch.nn.BCELoss()"
   ]
  },
  {
   "cell_type": "code",
   "execution_count": 5,
   "id": "ba885cdc-a7b0-48b7-bbdc-9ca5a022d69c",
   "metadata": {},
   "outputs": [],
   "source": [
    "# optimizer\n",
    "optimizer = torch.optim.SGD(logisticModel.parameters(), lr=0.01)"
   ]
  },
  {
   "cell_type": "code",
   "execution_count": 6,
   "id": "8ae91212-6064-4f35-b572-a1ded8f804e2",
   "metadata": {},
   "outputs": [],
   "source": [
    "# train\n",
    "epoch = 0\n",
    "train_loss = []\n",
    "\n",
    "# for epoch in  range(100):\n",
    "while True:\n",
    "    y_pred = logisticModel(x_data)\n",
    "    loss = criterion(y_pred, y_data)\n",
    "    train_loss.append(loss.item())\n",
    "    \n",
    "    loss.backward()\n",
    "    optimizer.step()\n",
    "    optimizer.zero_grad()\n",
    "    \n",
    "    if(loss.item() <= 1e-5 or epoch >= 40000):\n",
    "        break\n",
    "    else:\n",
    "        epoch += 1"
   ]
  },
  {
   "cell_type": "code",
   "execution_count": 7,
   "id": "d6156b22-2d6b-4808-ad6c-29f8349ad15a",
   "metadata": {},
   "outputs": [
    {
     "data": {
      "image/png": "[encoded data removed]",
      "text/plain": [
       "<Figure size 640x480 with 1 Axes>"
      ]
     },
     "metadata": {},
     "output_type": "display_data"
    }
   ],
   "source": [
    "# train_plot\n",
    "import matplotlib.pyplot as plt\n",
    "\n",
    "plt.plot(train_loss)\n",
    "plt.xlabel(\"epoch\")\n",
    "plt.ylabel(\"loss\")\n",
    "plt.grid(True)\n",
    "plt.show()"
   ]
  },
  {
   "cell_type": "code",
   "execution_count": 8,
   "id": "db2962fd-a3ec-42ee-9c08-46376398c484",
   "metadata": {},
   "outputs": [
    {
     "name": "stdout",
     "output_type": "stream",
     "text": [
      "w= tensor([[-0.8240, -3.4503,  0.1257, -0.5939, -0.2212, -2.5664, -1.0715,  0.0038]])\n",
      "b= 0.2267230749130249\n"
     ]
    }
   ],
   "source": [
    "# train_param\n",
    "print('w=', logisticModel.linear.weight.data)\n",
    "print('b=', logisticModel.linear.bias.item())"
   ]
  },
  {
   "cell_type": "code",
   "execution_count": 9,
   "id": "dc943c9d-cd9d-4f57-b756-87e1e7154e1e",
   "metadata": {},
   "outputs": [
    {
     "name": "stdout",
     "output_type": "stream",
     "text": [
      "accurate_rate= 0.7483443708609272\n"
     ]
    }
   ],
   "source": [
    "# test\n",
    "x_test = torch.from_numpy(test_data[:,:-1])\n",
    "y_test_truth = torch.from_numpy(test_data[:,[-1]])\n",
    "\n",
    "y_test_pred = logisticModel(x_test)\n",
    "y_test_pred = np.where(y_test_pred > 0.5, 1, 0) \n",
    "accurate_rate = (y_test_pred == y_test_truth.tolist()).sum() / test_size\n",
    "# y_test_pred = y_test_pred.round()\n",
    "# accurate_rate = (y_test_pred == y_test_truth).sum() / test_size\n",
    "print('accurate_rate=', accurate_rate)"
   ]
  },
  {
   "cell_type": "code",
   "execution_count": null,
   "id": "4194b507-10c1-42e0-bd9b-b548e330f181",
   "metadata": {},
   "outputs": [],
   "source": []
  }
 ],
 "metadata": {
  "kernelspec": {
   "display_name": "pt_py3.8",
   "language": "python",
   "name": "pt_py3.8"
  },
  "language_info": {
   "codemirror_mode": {
    "name": "ipython",
    "version": 3
   },
   "file_extension": ".py",
   "mimetype": "text/x-python",
   "name": "python",
   "nbconvert_exporter": "python",
   "pygments_lexer": "ipython3",
   "version": "3.8.16"
  }
 },
 "nbformat": 4,
 "nbformat_minor": 5
}
