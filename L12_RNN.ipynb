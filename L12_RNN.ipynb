{
  "nbformat": 4,
  "nbformat_minor": 0,
  "metadata": {
    "colab": {
      "provenance": [],
      "authorship_tag": "ABX9TyP0+/1qycpnDi5oSB81T21M"
    },
    "kernelspec": {
      "name": "python3",
      "display_name": "Python 3"
    },
    "language_info": {
      "name": "python"
    },
    "gpuClass": "standard",
    "accelerator": "GPU"
  },
  "cells": [
    {
      "cell_type": "markdown",
      "source": [
        "# L12 RNN"
      ],
      "metadata": {
        "id": "vstz9wFCSPx3"
      }
    },
    {
      "cell_type": "code",
      "source": [
        "import torch\n",
        "import numpy as np\n",
        "\n",
        "BATCH_SIZE = 1\n",
        "SEQ_LEN = 3\n",
        "INPUT_SIZE = 4\n",
        "HIDDEN_SIZE = 2\n",
        "NUM_LAYERS = 1\n",
        "\n",
        "# RNNCell\n",
        "# input.shape = (BATCH_SIZE, INPUT_SIZE)\n",
        "# hidden.shape = (BATCH_SIZE, HIDDEN_SIZE)\n",
        "# output.shape = (BATCH_SIZE, HIDDEN_SIZE)\n",
        "# dataset.shape = (SEQ_LEN, BATCH_SIZE, INPUT_SIZE)\n",
        "\n",
        "# RNN\n",
        "# input.shape = (SEQ_LEN, BATCH_SIZE, INPUT_SIZE)\n",
        "# h_0.shape = (NUM_LAYERS, BATCH_SIZE, HIDDEN_SIZE)\n",
        "# output.shape = (SEQ_LEN, BATCH_SIZE, HIDDEN_SIZE)\n",
        "# h_n.shape = (NUM_LAYERS, BATCH_SIZE, HIDDEN_SIZE)\n",
        "# dataset.shape = (SEQ_LEN, BATCH_SIZE, INPUT_SIZE)"
      ],
      "metadata": {
        "id": "hnHGpl8rSUEe"
      },
      "execution_count": 1,
      "outputs": []
    },
    {
      "cell_type": "code",
      "source": [
        "# RNNCell\n",
        "# use tanh in cell\n",
        "RNNCell = torch.nn.RNNCell(input_size=INPUT_SIZE, hidden_size=HIDDEN_SIZE)\n",
        "\n",
        "dataset = torch.randn(SEQ_LEN, BATCH_SIZE, INPUT_SIZE)\n",
        "hidden = torch.zeros(BATCH_SIZE, HIDDEN_SIZE)\n",
        "out = torch.tensor(np.array([]))\n",
        "\n",
        "for idx, input in enumerate(dataset):\n",
        "  hidden = RNNCell(input, hidden)\n",
        "  out = torch.cat((out, hidden), dim=0)\n",
        "\n",
        "print('out:\\n\\t', out, '\\n\\t', out.shape, '\\nhidden:\\n\\t', hidden, '\\n\\t', hidden.shape)"
      ],
      "metadata": {
        "colab": {
          "base_uri": "https://localhost:8080/"
        },
        "id": "378Jn4WyWZo9",
        "outputId": "931acbcd-9145-4346-8bf4-b095e26ddea6"
      },
      "execution_count": 2,
      "outputs": [
        {
          "output_type": "stream",
          "name": "stdout",
          "text": [
            "out:\n",
            "\t tensor([[ 0.6996,  0.7409],\n",
            "        [ 0.0881, -0.4285],\n",
            "        [ 0.8729, -0.0198]], dtype=torch.float64, grad_fn=<CatBackward0>) \n",
            "\t torch.Size([3, 2]) \n",
            "hidden:\n",
            "\t tensor([[ 0.8729, -0.0198]], grad_fn=<TanhBackward0>) \n",
            "\t torch.Size([1, 2])\n"
          ]
        }
      ]
    },
    {
      "cell_type": "code",
      "source": [
        "# RNN\n",
        "RNN = torch.nn.RNN(input_size=INPUT_SIZE, hidden_size=HIDDEN_SIZE, num_layers=NUM_LAYERS)\n",
        "\n",
        "dataset = torch.randn(SEQ_LEN, BATCH_SIZE, INPUT_SIZE)\n",
        "hidden = torch.zeros(NUM_LAYERS, BATCH_SIZE, HIDDEN_SIZE)\n",
        "\n",
        "out, hidden = RNN(dataset, hidden)\n",
        "\n",
        "print('out:\\n\\t', out, '\\n\\t', out.shape, '\\nhidden:\\n\\t', hidden, '\\n\\t', hidden.shape)"
      ],
      "metadata": {
        "colab": {
          "base_uri": "https://localhost:8080/"
        },
        "id": "El1M0i3AXsQN",
        "outputId": "07144502-2a8d-43a5-f213-80d867fc3215"
      },
      "execution_count": 3,
      "outputs": [
        {
          "output_type": "stream",
          "name": "stdout",
          "text": [
            "out:\n",
            "\t tensor([[[0.1793, 0.4974]],\n",
            "\n",
            "        [[0.8297, 0.7577]],\n",
            "\n",
            "        [[0.3866, 0.3424]]], grad_fn=<StackBackward0>) \n",
            "\t torch.Size([3, 1, 2]) \n",
            "hidden:\n",
            "\t tensor([[[0.3866, 0.3424]]], grad_fn=<StackBackward0>) \n",
            "\t torch.Size([1, 1, 2])\n"
          ]
        }
      ]
    },
    {
      "cell_type": "code",
      "source": [
        "# RNN with batch_first=True\n",
        "RNN = torch.nn.RNN(input_size=INPUT_SIZE, hidden_size=HIDDEN_SIZE, num_layers=NUM_LAYERS, batch_first=True)\n",
        "\n",
        "dataset = torch.randn(BATCH_SIZE, SEQ_LEN, INPUT_SIZE)\n",
        "hidden = torch.zeros(NUM_LAYERS, BATCH_SIZE, HIDDEN_SIZE)\n",
        "\n",
        "out, hidden = RNN(dataset, hidden)\n",
        "\n",
        "print('out:\\n\\t', out, '\\n\\t', out.shape, '\\nhidden:\\n\\t', hidden, '\\n\\t', hidden.shape)"
      ],
      "metadata": {
        "colab": {
          "base_uri": "https://localhost:8080/"
        },
        "id": "5pFfGwdXaSQH",
        "outputId": "2c9c3c25-d5ea-43fc-8a41-e3affef30f32"
      },
      "execution_count": 4,
      "outputs": [
        {
          "output_type": "stream",
          "name": "stdout",
          "text": [
            "out:\n",
            "\t tensor([[[-0.8177, -0.9276],\n",
            "         [ 0.1515, -0.2327],\n",
            "         [-0.8414, -0.5485]]], grad_fn=<TransposeBackward1>) \n",
            "\t torch.Size([1, 3, 2]) \n",
            "hidden:\n",
            "\t tensor([[[-0.8414, -0.5485]]], grad_fn=<StackBackward0>) \n",
            "\t torch.Size([1, 1, 2])\n"
          ]
        }
      ]
    },
    {
      "cell_type": "code",
      "source": [
        "# Case\n",
        "import torch\n",
        "import numpy as np\n",
        "\n",
        "BATCH_SIZE = 1\n",
        "SEQ_LEN = 5\n",
        "INPUT_SIZE = 4\n",
        "HIDDEN_SIZE = 4\n",
        "NUM_LAYERS = 1"
      ],
      "metadata": {
        "id": "ci0J8hSIEDc7"
      },
      "execution_count": 5,
      "outputs": []
    },
    {
      "cell_type": "code",
      "source": [
        "idx2char = ['e', 'h', 'l', 'o']\n",
        "x_data = [1, 0, 2, 2, 3] # hello\n",
        "y_data = [3, 1, 2, 3, 2] # ohlol\n",
        "\n",
        "one_hot_lookup = [\n",
        "    [1, 0, 0, 0],\n",
        "    [0, 1, 0, 0],\n",
        "    [0, 0, 1, 0],\n",
        "    [0, 0, 0, 1]]\n",
        "\n",
        "x_one_hot = [one_hot_lookup[x] for x in x_data]"
      ],
      "metadata": {
        "id": "OXx70Wq5db1V"
      },
      "execution_count": 6,
      "outputs": []
    },
    {
      "cell_type": "code",
      "source": [
        "class RNNCellNet(torch.nn.Module):\n",
        "  def __init__(self, input_size, hidden_size, batch_size):\n",
        "    super(RNNCellNet, self).__init__()\n",
        "    self.input_size = input_size\n",
        "    self.hidden_size = hidden_size\n",
        "    self.batch_size = batch_size\n",
        "    self.rnncell = torch.nn.RNNCell(input_size=self.input_size, \n",
        "                     hidden_size=self.hidden_size)\n",
        "\n",
        "  def forward(self, input, hidden):\n",
        "    hidden = self.rnncell(input, hidden)\n",
        "    return hidden\n",
        "\n",
        "rnnCellNet = RNNCellNet(INPUT_SIZE, HIDDEN_SIZE, BATCH_SIZE)"
      ],
      "metadata": {
        "id": "BQWZ3fTJgH-1"
      },
      "execution_count": 7,
      "outputs": []
    },
    {
      "cell_type": "code",
      "source": [
        "class RNNNet(torch.nn.Module):\n",
        "  def __init__(self, input_size, hidden_size, batch_size, num_layers=1):\n",
        "    super(RNNNet, self).__init__()\n",
        "    self.input_size = input_size\n",
        "    self.hidden_size = hidden_size\n",
        "    self.batch_size = batch_size\n",
        "    self.num_layers = num_layers\n",
        "    self.rnn = torch.nn.RNN(input_size=self.input_size, \n",
        "                 hidden_size=self.hidden_size, \n",
        "                 num_layers=self.num_layers)\n",
        "\n",
        "  def forward(self, input):\n",
        "    hidden = torch.zeros(self.num_layers, self.batch_size, self.hidden_size) # num_layers, batch_size, hidden_size\n",
        "    out, hidden = self.rnn(input, hidden) # output.shape = (SEQ_LEN, BATCH_SIZE, HIDDEN_SIZE)\n",
        "                          # h_n.shape = (NUM_LAYERS, BATCH_SIZE, HIDDEN_SIZE)\n",
        "    return out.view(-1, self.hidden_size)\n",
        "\n",
        "rnnNet = RNNNet(INPUT_SIZE, HIDDEN_SIZE, BATCH_SIZE, NUM_LAYERS)"
      ],
      "metadata": {
        "id": "943yprG9D9AH"
      },
      "execution_count": 8,
      "outputs": []
    },
    {
      "cell_type": "code",
      "source": [
        "# RNN with embedding and linear layer\n",
        "#     o1  o2  o3  o4  o5\n",
        "#     |   linear layer   |\n",
        "# h0 -> |    RNN Cell    | -> h5\n",
        "#     |     Embed     |\n",
        "#     x1  x2  x3  x4  x5\n",
        "NUM_CLASS = 4\n",
        "EMBED_SIZE = 10\n",
        "class RNNELNet(torch.nn.Module):\n",
        "  def __init__(self, input_size, hidden_size, num_class, batch_size, \n",
        "               embedding_size=10, \n",
        "               num_layers=1, batch_first=False):\n",
        "    super(RNNELNet, self).__init__()\n",
        "    self.hidden_size = hidden_size\n",
        "    self.num_layers = num_layers\n",
        "    self.num_class = num_class\n",
        "    self.emb = torch.nn.Embedding(input_size, embedding_size)\n",
        "    self.rnn = torch.nn.RNN(input_size=embedding_size, \n",
        "                 hidden_size=self.hidden_size, \n",
        "                 num_layers=self.num_layers,\n",
        "                 batch_first=batch_first)\n",
        "    self.fc = torch.nn.Linear(hidden_size, num_class)\n",
        "\n",
        "  def forward(self, input):\n",
        "    hidden = torch.zeros(self.num_layers, input.size(0), self.hidden_size) # num_layers, batch_size, hidden_size\n",
        "    out = self.emb(input) # (batch, seqLen, embeddingSize)\n",
        "    out, hidden = self.rnn(out, hidden) # output.shape = (BATCH_SIZE, SEQ_LEN, HIDDEN_SIZE)\n",
        "    out = self.fc(out)\n",
        "    return out.view(-1, self.num_class) # (batch*seqLen, numClass)\n",
        "\n",
        "rnnELNet = RNNELNet(INPUT_SIZE, 8, NUM_CLASS, BATCH_SIZE, \n",
        "           embedding_size=EMBED_SIZE, \n",
        "           num_layers=NUM_LAYERS, batch_first=True)"
      ],
      "metadata": {
        "id": "AOrZQuZtFBb5"
      },
      "execution_count": 9,
      "outputs": []
    },
    {
      "cell_type": "code",
      "source": [
        "# RNNCell\n",
        "inputs = torch.Tensor(x_one_hot).view(-1, BATCH_SIZE, INPUT_SIZE) # (SEQLEN_SIZE, BATCH_SIZE, INPUT_SIZE)\n",
        "labels = torch.LongTensor(y_data).view(-1, 1) # (SEQLEN_SIZE * BATCH_SIZE, 1)\n",
        "\n",
        "criterion = torch.nn.CrossEntropyLoss() # softmax(x)+log(x)+nn.NLLLoss====>nn.CrossEntropyLoss\n",
        "optimizer = torch.optim.Adam(rnnCellNet.parameters(), lr=0.1)\n",
        "\n",
        "for epoch in range(15):\n",
        "  loss = torch.zeros(1, requires_grad=True)\n",
        "  hidden = torch.zeros(BATCH_SIZE, HIDDEN_SIZE, requires_grad=True)\n",
        "  # hidden = hidden.to(device)\n",
        "\n",
        "  print(\"Predicted: \", end=\"\")\n",
        "  for input, label in zip(inputs, labels):\n",
        "    hidden = rnnCellNet(input, hidden)\n",
        "    loss = loss + criterion(hidden, label) # not .ietm() # (BATCH_SIZE, HIDDEN_SIZE) vs (1)\n",
        "    _, idx = hidden.max(dim=1)\n",
        "    print(idx2char[idx.item()], end=\"\")\n",
        "  \n",
        "  loss.backward()\n",
        "  optimizer.step()\n",
        "  optimizer.zero_grad()\n",
        "  print(\", Epoc[%d/15] loss=%.4f\" %(epoch+1, loss.item()))"
      ],
      "metadata": {
        "colab": {
          "base_uri": "https://localhost:8080/"
        },
        "id": "b8rva46kEPqI",
        "outputId": "86372994-6d74-4ad0-833e-86d05d40fa4f"
      },
      "execution_count": 10,
      "outputs": [
        {
          "output_type": "stream",
          "name": "stdout",
          "text": [
            "Predicted: hhhhh, Epoc[1/15] loss=7.6855\n",
            "Predicted: hhhlh, Epoc[2/15] loss=6.0022\n",
            "Predicted: ohlll, Epoc[3/15] loss=5.0145\n",
            "Predicted: ohlll, Epoc[4/15] loss=4.4818\n",
            "Predicted: ohlll, Epoc[5/15] loss=4.1351\n",
            "Predicted: ohlll, Epoc[6/15] loss=3.8305\n",
            "Predicted: ohlll, Epoc[7/15] loss=3.5255\n",
            "Predicted: ohlll, Epoc[8/15] loss=3.2450\n",
            "Predicted: ohlll, Epoc[9/15] loss=3.0201\n",
            "Predicted: ohlll, Epoc[10/15] loss=2.8519\n",
            "Predicted: ohlll, Epoc[11/15] loss=2.7270\n",
            "Predicted: ohlll, Epoc[12/15] loss=2.6313\n",
            "Predicted: ohlll, Epoc[13/15] loss=2.5542\n",
            "Predicted: ohlll, Epoc[14/15] loss=2.4893\n",
            "Predicted: ohlll, Epoc[15/15] loss=2.4339\n"
          ]
        }
      ]
    },
    {
      "cell_type": "code",
      "source": [
        "# RNN\n",
        "inputs = torch.Tensor(x_one_hot).view(-1, BATCH_SIZE, INPUT_SIZE) # (SEQLEN_SIZE, BATCH_SIZE, INPUT_SIZE)\n",
        "labels = torch.LongTensor(y_data) # (SEQLEN_SIZE * BATCH_SIZE)\n",
        "\n",
        "criterion = torch.nn.CrossEntropyLoss() # softmax(x)+log(x)+nn.NLLLoss====>nn.CrossEntropyLoss\n",
        "optimizer = torch.optim.Adam(rnnNet.parameters(), lr=0.1)\n",
        "\n",
        "for epoch in range(15):\n",
        "  print(\"Predicted: \", end=\"\")\n",
        "  outputs = rnnNet(inputs)\n",
        "  loss = criterion(outputs, labels) # not .ietm() # (SEQ_LEN * BATCH_SIZE, HIDDEN_SIZE) vs (SEQ_LEN * BATCH_SIZE)\n",
        "\n",
        "  _, idx = outputs.max(dim=1)\n",
        "  idx = idx.data.numpy()\n",
        "  print(''.join(idx2char[x] for x in idx), end=\"\")\n",
        "\n",
        "  loss.backward()\n",
        "  optimizer.step()\n",
        "  optimizer.zero_grad()\n",
        "  print(\", Epoc[%d/15] loss=%.4f\" %(epoch+1, loss.item()))"
      ],
      "metadata": {
        "colab": {
          "base_uri": "https://localhost:8080/"
        },
        "id": "W8Sp4rkhETrK",
        "outputId": "2203fcc7-62db-433c-db11-c0a3cf6a2835"
      },
      "execution_count": 11,
      "outputs": [
        {
          "output_type": "stream",
          "name": "stdout",
          "text": [
            "Predicted: hohoo, Epoc[1/15] loss=1.5230\n",
            "Predicted: hoooo, Epoc[2/15] loss=1.2743\n",
            "Predicted: ooooo, Epoc[3/15] loss=1.1299\n",
            "Predicted: ollol, Epoc[4/15] loss=1.0455\n",
            "Predicted: ollll, Epoc[5/15] loss=0.9752\n",
            "Predicted: ollll, Epoc[6/15] loss=0.9083\n",
            "Predicted: ollll, Epoc[7/15] loss=0.8365\n",
            "Predicted: ohlll, Epoc[8/15] loss=0.7660\n",
            "Predicted: ohlll, Epoc[9/15] loss=0.7156\n",
            "Predicted: ohool, Epoc[10/15] loss=0.6895\n",
            "Predicted: ohool, Epoc[11/15] loss=0.6723\n",
            "Predicted: ohool, Epoc[12/15] loss=0.6512\n",
            "Predicted: ohlol, Epoc[13/15] loss=0.6275\n",
            "Predicted: ohlol, Epoc[14/15] loss=0.6050\n",
            "Predicted: ohlol, Epoc[15/15] loss=0.5853\n"
          ]
        }
      ]
    },
    {
      "cell_type": "code",
      "source": [
        "# RNN with embedding and linear layer\n",
        "inputs = torch.LongTensor([x_data]) # (BATCH_SIZE, SEQLEN_SIZE)\n",
        "labels = torch.LongTensor(y_data) # (SEQLEN_SIZE * BATCH_SIZE)\n",
        "\n",
        "criterion = torch.nn.CrossEntropyLoss() # softmax(x)+log(x)+nn.NLLLoss====>nn.CrossEntropyLoss\n",
        "optimizer = torch.optim.Adam(rnnELNet.parameters(), lr=0.1)\n",
        "\n",
        "for epoch in range(15):\n",
        "  print(\"Predicted: \", end=\"\")\n",
        "  outputs = rnnELNet(inputs)\n",
        "  loss = criterion(outputs, labels) # not .ietm() # (SEQ_LEN * BATCH_SIZE, HIDDEN_SIZE) vs (SEQ_LEN * BATCH_SIZE)\n",
        "\n",
        "  _, idx = outputs.max(dim=1)\n",
        "  idx = idx.data.numpy()\n",
        "  print(''.join(idx2char[x] for x in idx), end=\"\")\n",
        "\n",
        "  loss.backward()\n",
        "  optimizer.step()\n",
        "  optimizer.zero_grad()\n",
        "  print(\", Epoc[%d/15] loss=%.4f\" %(epoch+1, loss.item()))"
      ],
      "metadata": {
        "colab": {
          "base_uri": "https://localhost:8080/"
        },
        "id": "e3tcJ4SrEUhA",
        "outputId": "db3f435c-5734-47f0-dd24-da1595a2cff0"
      },
      "execution_count": 12,
      "outputs": [
        {
          "output_type": "stream",
          "name": "stdout",
          "text": [
            "Predicted: leeeh, Epoc[1/15] loss=1.4109\n",
            "Predicted: ohlll, Epoc[2/15] loss=0.9156\n",
            "Predicted: ohlol, Epoc[3/15] loss=0.4931\n",
            "Predicted: ohlol, Epoc[4/15] loss=0.2606\n",
            "Predicted: ohlol, Epoc[5/15] loss=0.1204\n",
            "Predicted: ohlol, Epoc[6/15] loss=0.0583\n",
            "Predicted: ohlol, Epoc[7/15] loss=0.0312\n",
            "Predicted: ohlol, Epoc[8/15] loss=0.0177\n",
            "Predicted: ohlol, Epoc[9/15] loss=0.0106\n",
            "Predicted: ohlol, Epoc[10/15] loss=0.0066\n",
            "Predicted: ohlol, Epoc[11/15] loss=0.0044\n",
            "Predicted: ohlol, Epoc[12/15] loss=0.0030\n",
            "Predicted: ohlol, Epoc[13/15] loss=0.0021\n",
            "Predicted: ohlol, Epoc[14/15] loss=0.0015\n",
            "Predicted: ohlol, Epoc[15/15] loss=0.0011\n"
          ]
        }
      ]
    }
  ]
}