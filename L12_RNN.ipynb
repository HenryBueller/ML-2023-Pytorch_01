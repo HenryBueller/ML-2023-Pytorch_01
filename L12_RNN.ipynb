{
  "nbformat": 4,
  "nbformat_minor": 0,
  "metadata": {
    "colab": {
      "provenance": [],
      "authorship_tag": "ABX9TyPewnNyIBdDymKl7JQw8xe0"
    },
    "kernelspec": {
      "name": "python3",
      "display_name": "Python 3"
    },
    "language_info": {
      "name": "python"
    },
    "gpuClass": "standard",
    "accelerator": "GPU"
  },
  "cells": [
    {
      "cell_type": "markdown",
      "source": [
        "# L12 RNN"
      ],
      "metadata": {
        "id": "vstz9wFCSPx3"
      }
    },
    {
      "cell_type": "code",
      "source": [
        "import torch\n",
        "import numpy as np\n",
        "\n",
        "BATCH_SIZE = 1\n",
        "SEQ_LEN = 3\n",
        "INPUT_SIZE = 4\n",
        "HIDDEN_SIZE = 2\n",
        "NUM_LAYERS = 1\n",
        "\n",
        "# RNNCell\n",
        "# input.shape = (BATCH_SIZE, INPUT_SIZE)\n",
        "# hidden.shape = (BATCH_SIZE, HIDDEN_SIZE)\n",
        "# output.shape = (BATCH_SIZE, HIDDEN_SIZE)\n",
        "# dataset.shape = (SEQ_LEN, BATCH_SIZE, INPUT_SIZE)\n",
        "\n",
        "# RNN\n",
        "# input.shape = (SEQ_LEN, BATCH_SIZE, INPUT_SIZE)\n",
        "# h_0.shape = (NUM_LAYERS, BATCH_SIZE, HIDDEN_SIZE)\n",
        "# output.shape = (SEQ_LEN, BATCH_SIZE, HIDDEN_SIZE)\n",
        "# h_n.shape = (NUM_LAYERS, BATCH_SIZE, HIDDEN_SIZE)\n",
        "# dataset.shape = (SEQ_LEN, BATCH_SIZE, INPUT_SIZE)"
      ],
      "metadata": {
        "id": "hnHGpl8rSUEe"
      },
      "execution_count": 1,
      "outputs": []
    },
    {
      "cell_type": "code",
      "source": [
        "# RNNCell\n",
        "# use tanh in cell\n",
        "RNNCell = torch.nn.RNNCell(input_size=INPUT_SIZE, hidden_size=HIDDEN_SIZE)\n",
        "\n",
        "dataset = torch.randn(SEQ_LEN, BATCH_SIZE, INPUT_SIZE)\n",
        "hidden = torch.zeros(BATCH_SIZE, HIDDEN_SIZE)\n",
        "out = torch.tensor(np.array([]))\n",
        "\n",
        "for idx, input in enumerate(dataset):\n",
        "  hidden = RNNCell(input, hidden)\n",
        "  out = torch.cat((out, hidden), dim=0)\n",
        "\n",
        "print('out:\\n\\t', out, '\\n\\t', out.shape, '\\nhidden:\\n\\t', hidden, '\\n\\t', hidden.shape)"
      ],
      "metadata": {
        "colab": {
          "base_uri": "https://localhost:8080/"
        },
        "id": "378Jn4WyWZo9",
        "outputId": "0bb8e062-a91d-4d02-ffb4-c438d54a1c4c"
      },
      "execution_count": 2,
      "outputs": [
        {
          "output_type": "stream",
          "name": "stdout",
          "text": [
            "out:\n",
            "\t tensor([[ 0.9972, -0.9662],\n",
            "        [ 0.9985, -0.7575],\n",
            "        [ 0.0586,  0.2201]], dtype=torch.float64, grad_fn=<CatBackward0>) \n",
            "\t torch.Size([3, 2]) \n",
            "hidden:\n",
            "\t tensor([[0.0586, 0.2201]], grad_fn=<TanhBackward0>) \n",
            "\t torch.Size([1, 2])\n"
          ]
        }
      ]
    },
    {
      "cell_type": "code",
      "source": [
        "# RNN\n",
        "RNN = torch.nn.RNN(input_size=INPUT_SIZE, hidden_size=HIDDEN_SIZE, num_layers=NUM_LAYERS)\n",
        "\n",
        "dataset = torch.randn(SEQ_LEN, BATCH_SIZE, INPUT_SIZE)\n",
        "hidden = torch.zeros(NUM_LAYERS, BATCH_SIZE, HIDDEN_SIZE)\n",
        "\n",
        "out, hidden = RNN(dataset, hidden)\n",
        "\n",
        "print('out:\\n\\t', out, '\\n\\t', out.shape, '\\nhidden:\\n\\t', hidden, '\\n\\t', hidden.shape)"
      ],
      "metadata": {
        "colab": {
          "base_uri": "https://localhost:8080/"
        },
        "id": "El1M0i3AXsQN",
        "outputId": "ab110249-8d40-4583-bf60-722cdf25e71e"
      },
      "execution_count": 3,
      "outputs": [
        {
          "output_type": "stream",
          "name": "stdout",
          "text": [
            "out:\n",
            "\t tensor([[[-0.7730,  0.3682]],\n",
            "\n",
            "        [[-0.8271,  0.6409]],\n",
            "\n",
            "        [[-0.9808,  0.9651]]], grad_fn=<StackBackward0>) \n",
            "\t torch.Size([3, 1, 2]) \n",
            "hidden:\n",
            "\t tensor([[[-0.9808,  0.9651]]], grad_fn=<StackBackward0>) \n",
            "\t torch.Size([1, 1, 2])\n"
          ]
        }
      ]
    },
    {
      "cell_type": "code",
      "source": [
        "# RNN with batch_first=True\n",
        "RNN = torch.nn.RNN(input_size=INPUT_SIZE, hidden_size=HIDDEN_SIZE, num_layers=NUM_LAYERS, batch_first=True)\n",
        "\n",
        "dataset = torch.randn(BATCH_SIZE, SEQ_LEN, INPUT_SIZE)\n",
        "hidden = torch.zeros(NUM_LAYERS, BATCH_SIZE, HIDDEN_SIZE)\n",
        "\n",
        "out, hidden = RNN(dataset, hidden)\n",
        "\n",
        "print('out:\\n\\t', out, '\\n\\t', out.shape, '\\nhidden:\\n\\t', hidden, '\\n\\t', hidden.shape)"
      ],
      "metadata": {
        "colab": {
          "base_uri": "https://localhost:8080/"
        },
        "id": "5pFfGwdXaSQH",
        "outputId": "48876b74-b53f-4f7b-ae5f-44c0b14929d3"
      },
      "execution_count": 4,
      "outputs": [
        {
          "output_type": "stream",
          "name": "stdout",
          "text": [
            "out:\n",
            "\t tensor([[[-0.8056,  0.0124],\n",
            "         [-0.9937,  0.9482],\n",
            "         [-0.8982, -0.3263]]], grad_fn=<TransposeBackward1>) \n",
            "\t torch.Size([1, 3, 2]) \n",
            "hidden:\n",
            "\t tensor([[[-0.8982, -0.3263]]], grad_fn=<StackBackward0>) \n",
            "\t torch.Size([1, 1, 2])\n"
          ]
        }
      ]
    },
    {
      "cell_type": "code",
      "source": [
        "# Case\n",
        "import torch\n",
        "import numpy as np\n",
        "\n",
        "BATCH_SIZE = 1\n",
        "SEQ_LEN = 5\n",
        "INPUT_SIZE = 4\n",
        "HIDDEN_SIZE = 4\n",
        "NUM_LAYERS = 1"
      ],
      "metadata": {
        "id": "t3e0Ju3HkTB-"
      },
      "execution_count": 1,
      "outputs": []
    },
    {
      "cell_type": "code",
      "source": [
        "idx2char = ['e', 'h', 'l', 'o']\n",
        "x_data = [1, 0, 2, 2, 3] # hello\n",
        "y_data = [3, 1, 2, 3, 2] # ohlol\n",
        "\n",
        "one_hot_lookup = [\n",
        "    [1, 0, 0, 0],\n",
        "    [0, 1, 0, 0],\n",
        "    [0, 0, 1, 0],\n",
        "    [0, 0, 0, 1]]\n",
        "\n",
        "x_one_hot = [one_hot_lookup[x] for x in x_data]"
      ],
      "metadata": {
        "id": "OXx70Wq5db1V"
      },
      "execution_count": 2,
      "outputs": []
    },
    {
      "cell_type": "code",
      "source": [
        "class RNNCellNet(torch.nn.Module):\n",
        "  def __init__(self, input_size, hidden_size, batch_size):\n",
        "    super(RNNCellNet, self).__init__()\n",
        "    self.input_size = input_size\n",
        "    self.hidden_size = hidden_size\n",
        "    self.batch_size = batch_size\n",
        "    self.rnncell = torch.nn.RNNCell(input_size=self.input_size, \n",
        "                     hidden_size=self.hidden_size)\n",
        "\n",
        "  def forward(self, input, hidden):\n",
        "    hidden = self.rnncell(input, hidden)\n",
        "    return hidden\n",
        "\n",
        "rnnCellNet = RNNCellNet(INPUT_SIZE, HIDDEN_SIZE, BATCH_SIZE)"
      ],
      "metadata": {
        "id": "BQWZ3fTJgH-1"
      },
      "execution_count": 3,
      "outputs": []
    },
    {
      "cell_type": "code",
      "source": [
        "class RNNNet(torch.nn.Module):\n",
        "  def __init__(self, input_size, hidden_size, batch_size, num_layers=1):\n",
        "    super(RNNNet, self).__init__()\n",
        "    self.input_size = input_size\n",
        "    self.hidden_size = hidden_size\n",
        "    self.batch_size = batch_size\n",
        "    self.num_layers = num_layers\n",
        "    self.rnn = torch.nn.RNN(input_size=self.input_size, \n",
        "                 hidden_size=self.hidden_size, \n",
        "                 num_layers=self.num_layers)\n",
        "\n",
        "  def forward(self, input):\n",
        "    hidden = torch.zeros(self.num_layers, self.batch_size, self.hidden_size)\n",
        "    out, hidden = self.rnn(input, hidden) # output.shape = (SEQ_LEN, BATCH_SIZE, HIDDEN_SIZE)\n",
        "                          # h_n.shape = (NUM_LAYERS, BATCH_SIZE, HIDDEN_SIZE)\n",
        "    return out.view(-1, self.hidden_size)\n",
        "\n",
        "rnnNet = RNNNet(INPUT_SIZE, HIDDEN_SIZE, BATCH_SIZE, NUM_LAYERS)"
      ],
      "metadata": {
        "id": "NCtFSZe529bT"
      },
      "execution_count": 4,
      "outputs": []
    },
    {
      "cell_type": "code",
      "source": [
        "criterion = torch.nn.CrossEntropyLoss() # softmax(x)+log(x)+nn.NLLLoss====>nn.CrossEntropyLoss"
      ],
      "metadata": {
        "id": "F5mihaeQhgif"
      },
      "execution_count": 5,
      "outputs": []
    },
    {
      "cell_type": "code",
      "source": [
        "# RNNCell\n",
        "inputs = torch.Tensor(x_one_hot).view(-1, BATCH_SIZE, INPUT_SIZE) # (SEQLEN_SIZE, BATCH_SIZE, INPUT_SIZE)\n",
        "labels = torch.LongTensor(y_data).view(-1, 1) # (SEQLEN_SIZE * BATCH_SIZE, 1)\n",
        "\n",
        "optimizer = torch.optim.Adam(rnnCellNet.parameters(), lr=0.1)\n",
        "\n",
        "for epoch in range(15):\n",
        "  loss = torch.zeros(1, requires_grad=True)\n",
        "  hidden = torch.zeros(BATCH_SIZE, HIDDEN_SIZE, requires_grad=True)\n",
        "  # hidden = hidden.to(device)\n",
        "\n",
        "  print(\"Predicted: \", end=\"\")\n",
        "  for input, label in zip(inputs, labels):\n",
        "    hidden = rnnCellNet(input, hidden)\n",
        "    loss = loss + criterion(hidden, label) # not .ietm() # (BATCH_SIZE, HIDDEN_SIZE) vs (1)\n",
        "    _, idx = hidden.max(dim=1)\n",
        "    print(idx2char[idx.item()], end=\"\")\n",
        "  \n",
        "  loss.backward()\n",
        "  optimizer.step()\n",
        "  optimizer.zero_grad()\n",
        "  print(\", Epoc[%d/15] loss=%.4f\" %(epoch+1, loss.item()))"
      ],
      "metadata": {
        "colab": {
          "base_uri": "https://localhost:8080/"
        },
        "id": "CcoUYHxZiNaF",
        "outputId": "d9cac5f7-b3a4-49f5-dce7-ca2c90b3b8c3"
      },
      "execution_count": 6,
      "outputs": [
        {
          "output_type": "stream",
          "name": "stdout",
          "text": [
            "Predicted: llhhl, Epoc[1/15] loss=6.9730\n",
            "Predicted: lllll, Epoc[2/15] loss=6.0254\n",
            "Predicted: ollll, Epoc[3/15] loss=5.5476\n",
            "Predicted: ollll, Epoc[4/15] loss=5.1594\n",
            "Predicted: ollll, Epoc[5/15] loss=4.7548\n",
            "Predicted: ollll, Epoc[6/15] loss=4.3943\n",
            "Predicted: ollll, Epoc[7/15] loss=4.0873\n",
            "Predicted: ohlll, Epoc[8/15] loss=3.7992\n",
            "Predicted: ohlll, Epoc[9/15] loss=3.5108\n",
            "Predicted: ohlol, Epoc[10/15] loss=3.2392\n",
            "Predicted: ohlol, Epoc[11/15] loss=3.0250\n",
            "Predicted: ohlol, Epoc[12/15] loss=2.8440\n",
            "Predicted: ohlol, Epoc[13/15] loss=2.6681\n",
            "Predicted: ohlol, Epoc[14/15] loss=2.5375\n",
            "Predicted: ohlol, Epoc[15/15] loss=2.4447\n"
          ]
        }
      ]
    },
    {
      "cell_type": "code",
      "source": [
        "# RNNCell\n",
        "inputs = torch.Tensor(x_one_hot).view(-1, BATCH_SIZE, INPUT_SIZE) # (SEQLEN_SIZE, BATCH_SIZE, INPUT_SIZE)\n",
        "labels = torch.LongTensor(y_data) # (SEQLEN_SIZE * BATCH_SIZE)\n",
        "\n",
        "optimizer = torch.optim.Adam(rnnNet.parameters(), lr=0.1)\n",
        "\n",
        "for epoch in range(15):\n",
        "  print(\"Predicted: \", end=\"\")\n",
        "  outputs = rnnNet(inputs)\n",
        "  loss = criterion(outputs, labels) # not .ietm() # (SEQ_LEN * BATCH_SIZE, HIDDEN_SIZE) vs (SEQ_LEN * BATCH_SIZE)\n",
        "\n",
        "  _, idx = outputs.max(dim=1)\n",
        "  idx = idx.data.numpy()\n",
        "  print(''.join(idx2char[x] for x in idx), end=\"\")\n",
        "\n",
        "  loss.backward()\n",
        "  optimizer.step()\n",
        "  optimizer.zero_grad()\n",
        "  print(\", Epoc[%d/15] loss=%.4f\" %(epoch+1, loss.item()))"
      ],
      "metadata": {
        "colab": {
          "base_uri": "https://localhost:8080/"
        },
        "id": "D9VORgJPqU-L",
        "outputId": "364a421e-75ee-4baf-ce04-b4633ec6c930"
      },
      "execution_count": 7,
      "outputs": [
        {
          "output_type": "stream",
          "name": "stdout",
          "text": [
            "Predicted: eeeee, Epoc[1/15] loss=1.8637\n",
            "Predicted: eheee, Epoc[2/15] loss=1.5535\n",
            "Predicted: eooee, Epoc[3/15] loss=1.3622\n",
            "Predicted: eoooo, Epoc[4/15] loss=1.2070\n",
            "Predicted: ooool, Epoc[5/15] loss=1.0314\n",
            "Predicted: oolol, Epoc[6/15] loss=0.8482\n",
            "Predicted: ohlol, Epoc[7/15] loss=0.7309\n",
            "Predicted: ohlol, Epoc[8/15] loss=0.6790\n",
            "Predicted: ohlol, Epoc[9/15] loss=0.6501\n",
            "Predicted: ohlol, Epoc[10/15] loss=0.6244\n",
            "Predicted: ohlol, Epoc[11/15] loss=0.5967\n",
            "Predicted: ohlol, Epoc[12/15] loss=0.5676\n",
            "Predicted: ohlol, Epoc[13/15] loss=0.5391\n",
            "Predicted: ohlol, Epoc[14/15] loss=0.5124\n",
            "Predicted: ohlol, Epoc[15/15] loss=0.4874\n"
          ]
        }
      ]
    }
  ]
}